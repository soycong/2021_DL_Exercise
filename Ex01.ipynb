{
 "cells": [
  {
   "cell_type": "markdown",
   "id": "answering-postcard",
   "metadata": {},
   "source": [
    "# 실습[01]MLP-행렬곱구현\n",
    "휴먼지능정보공학과 201910805 백서희"
   ]
  },
  {
   "cell_type": "markdown",
   "id": "trying-entertainment",
   "metadata": {},
   "source": [
    "라이브러리 임포트"
   ]
  },
  {
   "cell_type": "code",
   "execution_count": 1,
   "id": "incoming-message",
   "metadata": {},
   "outputs": [],
   "source": [
    "import numpy as np\n",
    "import matplotlib.pyplot as plt\n",
    "%matplotlib inline\n",
    "\n",
    "import torch\n",
    "import torchvision.datasets as dset\n",
    "import torchvision.transforms as transforms"
   ]
  },
  {
   "cell_type": "markdown",
   "id": "intelligent-maintenance",
   "metadata": {},
   "source": [
    "MNIST test dataset 가져오기"
   ]
  },
  {
   "cell_type": "code",
   "execution_count": 2,
   "id": "manual-origin",
   "metadata": {},
   "outputs": [],
   "source": [
    "#\"\":현재 폴더에 MINST있다는 의미\n",
    "mnist_test=dset.MNIST(\"\", train=False, transform=transforms.ToTensor(), target_transform=None, download=True)\n",
    "#train=False -> test로 불러옴(test용으로 쓰겠다.)"
   ]
  },
  {
   "cell_type": "markdown",
   "id": "adjacent-outdoors",
   "metadata": {},
   "source": [
    "대략적인 데이터 형태"
   ]
  },
  {
   "cell_type": "code",
   "execution_count": 3,
   "id": "inclusive-virginia",
   "metadata": {},
   "outputs": [
    {
     "name": "stdout",
     "output_type": "stream",
     "text": [
      "mnist_test 길이: 10000\n",
      "image data 형태: torch.Size([1, 28, 28])\n",
      "label: 7\n"
     ]
    }
   ],
   "source": [
    "print(\"mnist_test 길이:\", len(mnist_test))\n",
    "\n",
    "#데이터 하나 형태\n",
    "image, label=mnist_test.__getitem__(0) #0번째 데이터\n",
    "\n",
    "print(\"image data 형태:\",image.size())\n",
    "print(\"label:\",label)"
   ]
  },
  {
   "cell_type": "code",
   "execution_count": 4,
   "id": "invalid-ready",
   "metadata": {},
   "outputs": [
    {
     "data": {
      "image/png": "[encoded data removed]",
      "text/plain": [
       "<Figure size 432x288 with 1 Axes>"
      ]
     },
     "metadata": {
      "needs_background": "light"
     },
     "output_type": "display_data"
    }
   ],
   "source": [
    "#그리기\n",
    "img=image.numpy() #image 타입을 numpy로 변환 (1,28,28)\n",
    "plt.title(\"label: %d\" %label)\n",
    "plt.imshow(img[0],cmap='gray')\n",
    "plt.show()"
   ]
  },
  {
   "cell_type": "markdown",
   "id": "compliant-navigation",
   "metadata": {},
   "source": [
    "sigmoid, softmax 함수 구현"
   ]
  },
  {
   "cell_type": "code",
   "execution_count": 5,
   "id": "pursuant-ballet",
   "metadata": {},
   "outputs": [],
   "source": [
    "def sigmoid(x):\n",
    "    return 1/(1+np.exp(-x))\n",
    "#입력 값이 스칼라일 수도 있고, 벡터일 수도 있음 -> 여기에서는 벡터로 염두해둠\n",
    "#엘리먼트 와이즈 연산으로 벡터의 각 원소에 시그모이드 함수를 씌워줌\n",
    "#**for문을 이용하지 않는 것이 구현에서 중요함->벡터 연산을 위해 내부적으로 최적화된 함수를 쓰는 것이 중요(numpy에서 제공하는 함수 사용)"
   ]
  },
  {
   "cell_type": "code",
   "execution_count": 6,
   "id": "adjacent-ebony",
   "metadata": {},
   "outputs": [],
   "source": [
    "def softmax(x):\n",
    "    e_x=np.exp(x) #벡터의 각 원소에 exponential 사용\n",
    "    return e_x/np.sum(e_x) #np.sum()-각 원소를 합하는 함수"
   ]
  },
  {
   "cell_type": "markdown",
   "id": "interim-tsunami",
   "metadata": {},
   "source": [
    "모델 선언"
   ]
  },
  {
   "cell_type": "code",
   "execution_count": 7,
   "id": "artistic-cigarette",
   "metadata": {},
   "outputs": [],
   "source": [
    "#Multi-layered perception\n",
    "##of units in each layer: 28*28-256-128-10\n",
    "class MyMLP:\n",
    "    def __init__(self,n_input,n_hidden1,n_hidden2,n_output): #input layer, hidden layer1,2, output layer 개수\n",
    "        #W^(1): layer1 > layer2 에 매핑되는 Weight\n",
    "        self.W1=np.zeros((n_hidden1, n_input),dtype=np.float32) #Weight #W1(256,28*28)\n",
    "        self.b1=np.zeros((n_hidden1,),dtype=np.float32) #Bias(따로 빼줌)\n",
    "\n",
    "        self.W2=np.zeros((n_hidden2, n_hidden1),dtype=np.float32) #W2(128, 256) 257에서 bias 1개 뺌=256\n",
    "        self.b2=np.zeros((n_hidden2,),dtype=np.float32)\n",
    "        \n",
    "        self.W3=np.zeros((n_output, n_hidden2),dtype=np.float32) #W3(10, 128)\n",
    "        self.b3=np.zeros((n_output),dtype=np.float32)\n",
    "        \n",
    "    def __call__(self,x): #class에 해당하는 객체를 생성하고, 객체의 괄호 안에 입력값 x를 넣으면 자동으로 불러지는 부분\n",
    "        #(1,28,28) -> (28*28)\n",
    "        x=x.reshape(-1) #일렬로 피기\n",
    "        \n",
    "        h1=sigmoid(np.dot(self.W1, x)+self.b1) #W1(256, 28*28), x(28*28), b1(256) -> h1(256) #sigmoid는 activation function\n",
    "        h2=np.dot(self.W2, h1)+self.b2 #W2(128, 256), h1(256), b2(128) -> h2(128)\n",
    "        out=np.dot(self.W3, h2)+self.b3#W3(10, 128), h2(128), b3(10) -> out(10)\n",
    "        \n",
    "        return softmax(out) #(10) #0~1사이 10개 유닛의 값을 합치면 1이 되게끔 만들어줌"
   ]
  },
  {
   "cell_type": "markdown",
   "id": "martial-addition",
   "metadata": {},
   "source": [
    "모델 생성"
   ]
  },
  {
   "cell_type": "code",
   "execution_count": 8,
   "id": "collaborative-minneapolis",
   "metadata": {},
   "outputs": [
    {
     "name": "stdout",
     "output_type": "stream",
     "text": [
      "(256, 784) (256,)\n",
      "(128, 256) (128,)\n",
      "(10, 128) (10,)\n"
     ]
    }
   ],
   "source": [
    "model=MyMLP(28*28,256,128,10)\n",
    "\n",
    "print(model.W1.shape, model.b1.shape)\n",
    "print(model.W2.shape, model.b2.shape)\n",
    "print(model.W3.shape, model.b3.shape)"
   ]
  },
  {
   "cell_type": "markdown",
   "id": "residential-planner",
   "metadata": {},
   "source": [
    "미리 학습된 weight 로드"
   ]
  },
  {
   "cell_type": "code",
   "execution_count": 9,
   "id": "noted-secret",
   "metadata": {},
   "outputs": [],
   "source": [
    "weight=np.load('mlp_weight.npz')"
   ]
  },
  {
   "cell_type": "code",
   "execution_count": 10,
   "id": "analyzed-gibson",
   "metadata": {},
   "outputs": [
    {
     "name": "stdout",
     "output_type": "stream",
     "text": [
      "(256, 784) (256,)\n",
      "(128, 256) (128,)\n",
      "(10, 128) (10,)\n"
     ]
    }
   ],
   "source": [
    "model.W1=weight['W1']\n",
    "model.b1=weight['b1']\n",
    "model.W2=weight['W2']\n",
    "model.b2=weight['b2']\n",
    "model.W3=weight['W3']\n",
    "model.b3=weight['b3']\n",
    "\n",
    "print(model.W1.shape, model.b1.shape)\n",
    "print(model.W2.shape, model.b2.shape)\n",
    "print(model.W3.shape, model.b3.shape)"
   ]
  },
  {
   "cell_type": "markdown",
   "id": "final-farmer",
   "metadata": {},
   "source": [
    "테스트"
   ]
  },
  {
   "cell_type": "code",
   "execution_count": 11,
   "id": "beautiful-pantyhose",
   "metadata": {},
   "outputs": [
    {
     "data": {
      "image/png": "[encoded data removed]",
      "text/plain": [
       "<Figure size 432x288 with 1 Axes>"
      ]
     },
     "metadata": {
      "needs_background": "light"
     },
     "output_type": "display_data"
    },
    {
     "data": {
      "image/png": "[encoded data removed]",
      "text/plain": [
       "<Figure size 432x288 with 1 Axes>"
      ]
     },
     "metadata": {
      "needs_background": "light"
     },
     "output_type": "display_data"
    },
    {
     "data": {
      "image/png": "[encoded data removed]",
      "text/plain": [
       "<Figure size 432x288 with 1 Axes>"
      ]
     },
     "metadata": {
      "needs_background": "light"
     },
     "output_type": "display_data"
    },
    {
     "data": {
      "image/png": "[encoded data removed]",
      "text/plain": [
       "<Figure size 432x288 with 1 Axes>"
      ]
     },
     "metadata": {
      "needs_background": "light"
     },
     "output_type": "display_data"
    },
    {
     "data": {
      "image/png": "[encoded data removed]",
      "text/plain": [
       "<Figure size 432x288 with 1 Axes>"
      ]
     },
     "metadata": {
      "needs_background": "light"
     },
     "output_type": "display_data"
    },
    {
     "data": {
      "image/png": "[encoded data removed]",
      "text/plain": [
       "<Figure size 432x288 with 1 Axes>"
      ]
     },
     "metadata": {
      "needs_background": "light"
     },
     "output_type": "display_data"
    },
    {
     "data": {
      "image/png": "[encoded data removed]",
      "text/plain": [
       "<Figure size 432x288 with 1 Axes>"
      ]
     },
     "metadata": {
      "needs_background": "light"
     },
     "output_type": "display_data"
    },
    {
     "data": {
      "image/png": "[encoded data removed]",
      "text/plain": [
       "<Figure size 432x288 with 1 Axes>"
      ]
     },
     "metadata": {
      "needs_background": "light"
     },
     "output_type": "display_data"
    },
    {
     "data": {
      "image/png": "[encoded data removed]",
      "text/plain": [
       "<Figure size 432x288 with 1 Axes>"
      ]
     },
     "metadata": {
      "needs_background": "light"
     },
     "output_type": "display_data"
    },
    {
     "data": {
      "image/png": "[encoded data removed]",
      "text/plain": [
       "<Figure size 432x288 with 1 Axes>"
      ]
     },
     "metadata": {
      "needs_background": "light"
     },
     "output_type": "display_data"
    },
    {
     "name": "stdout",
     "output_type": "stream",
     "text": [
      "정확도: 91.91\n"
     ]
    }
   ],
   "source": [
    "mysum=0\n",
    "\n",
    "m=len(mnist_test)\n",
    "cnt=0\n",
    "\n",
    "for i in range(m):\n",
    "    image,label=mnist_test.__getitem__(i) #0번째 데이터\n",
    "    output=model(image) #생성된 model에 image 넣어줌\n",
    "    \n",
    "    if(i%1000==0):\n",
    "        img=image.numpy() #image 타입을 numpy로 변환 (1,28,28)\n",
    "        pred_label=np.argmax(output) #argmax 함수- 배열 원소 중 max 값에 해당되는 인덱스를 리턴해주는 함수\n",
    "        plt.title(\"pred: %d, albel %d\" %(pred_label, label))\n",
    "        plt.imshow(img[0],cmap='gray')\n",
    "        plt.show()\n",
    "    \n",
    "    cnt+=1\n",
    "    mysum+=(np.argmax(output)==label)#원 핫 인코딩 방식(0~9) #정답 label이 예측한 label과 같으면 1을 내보냄(mysum에 더해줌)\n",
    "                                      #각 유닛의 원소값 중 가장 큰 값에 해당하는 유닛의 인덱스가 우리 모델이 예측한 label\n",
    "print(\"정확도: %.2f\" %((float(mysum)/cnt)*100.0))"
   ]
  }
 ],
 "metadata": {
  "kernelspec": {
   "display_name": "conda_pytorch_latest_p36",
   "language": "python",
   "name": "conda_pytorch_latest_p36"
  },
  "language_info": {
   "codemirror_mode": {
    "name": "ipython",
    "version": 3
   },
   "file_extension": ".py",
   "mimetype": "text/x-python",
   "name": "python",
   "nbconvert_exporter": "python",
   "pygments_lexer": "ipython3",
   "version": "3.6.13"
  }
 },
 "nbformat": 4,
 "nbformat_minor": 5
}
